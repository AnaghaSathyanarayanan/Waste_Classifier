{
 "cells": [
  {
   "cell_type": "code",
   "execution_count": 1,
   "id": "d72088ac",
   "metadata": {},
   "outputs": [],
   "source": [
    "from tensorflow.keras.models import load_model"
   ]
  },
  {
   "cell_type": "code",
   "execution_count": 12,
   "id": "df49e2f0",
   "metadata": {},
   "outputs": [],
   "source": [
    "import mlflow\n",
    "experiment_name = \"test model\"\n",
    "run_name=\"test\"\n"
   ]
  },
  {
   "cell_type": "code",
   "execution_count": 13,
   "id": "dd8b246d-1881-4a21-89e8-4a7451f4f94f",
   "metadata": {},
   "outputs": [],
   "source": [
    "# model = load_model('keras_model.h5')\n",
    "model = load_model(\"keras_Model.h5\", compile=False)\n"
   ]
  },
  {
   "cell_type": "code",
   "execution_count": 14,
   "id": "f9292363-d69a-4ff5-b0bf-78498ec51e64",
   "metadata": {},
   "outputs": [
    {
     "data": {
      "text/html": [
       "<pre style=\"white-space:pre;overflow-x:auto;line-height:normal;font-family:Menlo,'DejaVu Sans Mono',consolas,'Courier New',monospace\"><span style=\"font-weight: bold\">Model: \"sequential_4\"</span>\n",
       "</pre>\n"
      ],
      "text/plain": [
       "\u001b[1mModel: \"sequential_4\"\u001b[0m\n"
      ]
     },
     "metadata": {},
     "output_type": "display_data"
    },
    {
     "data": {
      "text/html": [
       "<pre style=\"white-space:pre;overflow-x:auto;line-height:normal;font-family:Menlo,'DejaVu Sans Mono',consolas,'Courier New',monospace\">┏━━━━━━━━━━━━━━━━━━━━━━━━━━━━━━━━━━━━━━┳━━━━━━━━━━━━━━━━━━━━━━━━━━━━━┳━━━━━━━━━━━━━━━━━┓\n",
       "┃<span style=\"font-weight: bold\"> Layer (type)                         </span>┃<span style=\"font-weight: bold\"> Output Shape                </span>┃<span style=\"font-weight: bold\">         Param # </span>┃\n",
       "┡━━━━━━━━━━━━━━━━━━━━━━━━━━━━━━━━━━━━━━╇━━━━━━━━━━━━━━━━━━━━━━━━━━━━━╇━━━━━━━━━━━━━━━━━┩\n",
       "│ sequential_1 (<span style=\"color: #0087ff; text-decoration-color: #0087ff\">Sequential</span>)            │ (<span style=\"color: #00d7ff; text-decoration-color: #00d7ff\">None</span>, <span style=\"color: #00af00; text-decoration-color: #00af00\">1280</span>)                │         <span style=\"color: #00af00; text-decoration-color: #00af00\">410,208</span> │\n",
       "├──────────────────────────────────────┼─────────────────────────────┼─────────────────┤\n",
       "│ sequential_3 (<span style=\"color: #0087ff; text-decoration-color: #0087ff\">Sequential</span>)            │ (<span style=\"color: #00d7ff; text-decoration-color: #00d7ff\">None</span>, <span style=\"color: #00af00; text-decoration-color: #00af00\">6</span>)                   │         <span style=\"color: #00af00; text-decoration-color: #00af00\">128,700</span> │\n",
       "└──────────────────────────────────────┴─────────────────────────────┴─────────────────┘\n",
       "</pre>\n"
      ],
      "text/plain": [
       "┏━━━━━━━━━━━━━━━━━━━━━━━━━━━━━━━━━━━━━━┳━━━━━━━━━━━━━━━━━━━━━━━━━━━━━┳━━━━━━━━━━━━━━━━━┓\n",
       "┃\u001b[1m \u001b[0m\u001b[1mLayer (type)                        \u001b[0m\u001b[1m \u001b[0m┃\u001b[1m \u001b[0m\u001b[1mOutput Shape               \u001b[0m\u001b[1m \u001b[0m┃\u001b[1m \u001b[0m\u001b[1m        Param #\u001b[0m\u001b[1m \u001b[0m┃\n",
       "┡━━━━━━━━━━━━━━━━━━━━━━━━━━━━━━━━━━━━━━╇━━━━━━━━━━━━━━━━━━━━━━━━━━━━━╇━━━━━━━━━━━━━━━━━┩\n",
       "│ sequential_1 (\u001b[38;5;33mSequential\u001b[0m)            │ (\u001b[38;5;45mNone\u001b[0m, \u001b[38;5;34m1280\u001b[0m)                │         \u001b[38;5;34m410,208\u001b[0m │\n",
       "├──────────────────────────────────────┼─────────────────────────────┼─────────────────┤\n",
       "│ sequential_3 (\u001b[38;5;33mSequential\u001b[0m)            │ (\u001b[38;5;45mNone\u001b[0m, \u001b[38;5;34m6\u001b[0m)                   │         \u001b[38;5;34m128,700\u001b[0m │\n",
       "└──────────────────────────────────────┴─────────────────────────────┴─────────────────┘\n"
      ]
     },
     "metadata": {},
     "output_type": "display_data"
    },
    {
     "data": {
      "text/html": [
       "<pre style=\"white-space:pre;overflow-x:auto;line-height:normal;font-family:Menlo,'DejaVu Sans Mono',consolas,'Courier New',monospace\"><span style=\"font-weight: bold\"> Total params: </span><span style=\"color: #00af00; text-decoration-color: #00af00\">538,908</span> (2.06 MB)\n",
       "</pre>\n"
      ],
      "text/plain": [
       "\u001b[1m Total params: \u001b[0m\u001b[38;5;34m538,908\u001b[0m (2.06 MB)\n"
      ]
     },
     "metadata": {},
     "output_type": "display_data"
    },
    {
     "data": {
      "text/html": [
       "<pre style=\"white-space:pre;overflow-x:auto;line-height:normal;font-family:Menlo,'DejaVu Sans Mono',consolas,'Courier New',monospace\"><span style=\"font-weight: bold\"> Trainable params: </span><span style=\"color: #00af00; text-decoration-color: #00af00\">524,828</span> (2.00 MB)\n",
       "</pre>\n"
      ],
      "text/plain": [
       "\u001b[1m Trainable params: \u001b[0m\u001b[38;5;34m524,828\u001b[0m (2.00 MB)\n"
      ]
     },
     "metadata": {},
     "output_type": "display_data"
    },
    {
     "data": {
      "text/html": [
       "<pre style=\"white-space:pre;overflow-x:auto;line-height:normal;font-family:Menlo,'DejaVu Sans Mono',consolas,'Courier New',monospace\"><span style=\"font-weight: bold\"> Non-trainable params: </span><span style=\"color: #00af00; text-decoration-color: #00af00\">14,080</span> (55.00 KB)\n",
       "</pre>\n"
      ],
      "text/plain": [
       "\u001b[1m Non-trainable params: \u001b[0m\u001b[38;5;34m14,080\u001b[0m (55.00 KB)\n"
      ]
     },
     "metadata": {},
     "output_type": "display_data"
    }
   ],
   "source": [
    "model.summary()"
   ]
  },
  {
   "cell_type": "code",
   "execution_count": 17,
   "id": "6e8982f1-2b2f-44cb-9384-d3baccc09670",
   "metadata": {},
   "outputs": [],
   "source": [
    "def create_experiment(experiment_name,run_name,model):\n",
    "    import mlflow\n",
    "    #mlflow.set_tracking_uri(\"http://localhost:5000\") #uncomment this line if you want to use any database like sqlite as backend storage for model\n",
    "    mlflow.set_experiment(experiment_name)\n",
    "    \n",
    "    with mlflow.start_run():\n",
    "        \n",
    "            \n",
    "        \n",
    "        mlflow.sklearn.log_model(model, \"model\")\n",
    "        \n",
    "\n",
    "        mlflow.set_tag(\"tag1\", \"trash model\")\n",
    "        mlflow.set_tags({\"tag2\":\"CNN\", \"tag3\":\"Production\"})\n",
    "            \n",
    "    print('Run - %s is logged to Experiment - %s' %(run_name, experiment_name))"
   ]
  },
  {
   "cell_type": "code",
   "execution_count": 18,
   "id": "47319447-9032-4f8a-830b-3ea74ec8f341",
   "metadata": {},
   "outputs": [
    {
     "name": "stderr",
     "output_type": "stream",
     "text": [
      "2024/09/28 14:03:38 WARNING mlflow.models.model: Model logged without a signature and input example. Please set `input_example` parameter when logging the model to auto infer the model signature.\n"
     ]
    },
    {
     "name": "stdout",
     "output_type": "stream",
     "text": [
      "Run - test is logged to Experiment - test model\n"
     ]
    }
   ],
   "source": [
    "create_experiment(experiment_name,run_name,model)"
   ]
  },
  {
   "cell_type": "code",
   "execution_count": null,
   "id": "0cd05c73-68ed-48e6-8bbc-ac57c2bddc73",
   "metadata": {},
   "outputs": [],
   "source": []
  },
  {
   "cell_type": "code",
   "execution_count": null,
   "id": "e3f1be65-ea1b-4361-8b81-e9bc1530d2b9",
   "metadata": {},
   "outputs": [],
   "source": []
  },
  {
   "cell_type": "code",
   "execution_count": null,
   "id": "79f0e895-df2e-417d-97b7-a745627e3e14",
   "metadata": {},
   "outputs": [],
   "source": []
  },
  {
   "cell_type": "code",
   "execution_count": 2,
   "id": "55dd92a0-1420-4445-9d18-1e816ab5dbba",
   "metadata": {},
   "outputs": [],
   "source": [
    "from keras.models import load_model  # TensorFlow is required for Keras to work\n",
    "from PIL import Image, ImageOps  # Install pillow instead of PIL\n",
    "import numpy as np"
   ]
  },
  {
   "cell_type": "code",
   "execution_count": 11,
   "id": "c3773d75-eea2-4cf6-a7cf-3aac2e260178",
   "metadata": {},
   "outputs": [
    {
     "name": "stdout",
     "output_type": "stream",
     "text": [
      "\u001b[1m1/1\u001b[0m \u001b[32m━━━━━━━━━━━━━━━━━━━━\u001b[0m\u001b[37m\u001b[0m \u001b[1m5s\u001b[0m 5s/step\n",
      "Class: plastic\n",
      "Confidence Score: 0.9991473\n"
     ]
    }
   ],
   "source": [
    "\n",
    "\n",
    "# Disable scientific notation for clarity\n",
    "np.set_printoptions(suppress=True)\n",
    "\n",
    "# Load the model\n",
    "model = load_model(\"keras_Model.h5\", compile=False)\n",
    "\n",
    "# Load the labels\n",
    "class_names = open(\"labels.txt\", \"r\").readlines()\n",
    "\n",
    "# Create the array of the right shape to feed into the keras model\n",
    "# The 'length' or number of images you can put into the array is\n",
    "# determined by the first position in the shape tuple, in this case 1\n",
    "data = np.ndarray(shape=(1, 224, 224, 3), dtype=np.float32)\n",
    "\n",
    "# Replace this with the path to your image\n",
    "image = Image.open(\"platic bottle.jpg\").convert(\"RGB\")\n",
    "\n",
    "# resizing the image to be at least 224x224 and then cropping from the center\n",
    "size = (224, 224)\n",
    "image = ImageOps.fit(image, size, Image.Resampling.LANCZOS)\n",
    "\n",
    "# turn the image into a numpy array\n",
    "image_array = np.asarray(image)\n",
    "\n",
    "# Normalize the image\n",
    "normalized_image_array = (image_array.astype(np.float32) / 127.5) - 1\n",
    "\n",
    "# Load the image into the array\n",
    "data[0] = normalized_image_array\n",
    "\n",
    "# Predicts the model\n",
    "prediction = model.predict(data)\n",
    "index = np.argmax(prediction)\n",
    "class_name = class_names[index]\n",
    "confidence_score = prediction[0][index]\n",
    "\n",
    "# Print prediction and confidence score\n",
    "print(\"Class:\", class_name[2:], end=\"\")\n",
    "print(\"Confidence Score:\", confidence_score)\n"
   ]
  },
  {
   "cell_type": "code",
   "execution_count": 9,
   "id": "793b8972-26c8-4803-b854-d91c918f6038",
   "metadata": {},
   "outputs": [],
   "source": [
    "# hack to change model config from keras 2->3 compliant\n",
    "import h5py\n",
    "f = h5py.File(\"keras_Model.h5\", mode=\"r+\")\n",
    "model_config_string = f.attrs.get(\"model_config\")\n",
    "if model_config_string.find('\"groups\": 1,') != -1:\n",
    "    model_config_string = model_config_string.replace('\"groups\": 1,', '')\n",
    "    f.attrs.modify('model_config', model_config_string)\n",
    "    f.flush()\n",
    "    model_config_string = f.attrs.get(\"model_config\")\n",
    "    assert model_config_string.find('\"groups\": 1,') == -1\n",
    "\n",
    "f.close()"
   ]
  },
  {
   "cell_type": "code",
   "execution_count": 18,
   "id": "a82fa2da-7072-4f4c-8440-c463bcae74d3",
   "metadata": {},
   "outputs": [],
   "source": [
    "\n",
    "import requests\n",
    "\n",
    "data = np.ndarray(shape=(1, 224, 224, 3), dtype=np.float32)\n",
    "\n",
    "# Replace this with the path to your image\n",
    "image = Image.open(\"platic bottle.jpg\").convert(\"RGB\")\n",
    "\n",
    "# resizing the image to be at least 224x224 and then cropping from the center\n",
    "size = (224, 224)\n",
    "image = ImageOps.fit(image, size, Image.Resampling.LANCZOS)\n",
    "\n",
    "# turn the image into a numpy array\n",
    "image_array = np.asarray(image)\n",
    "\n",
    "# Normalize the image\n",
    "normalized_image_array = (image_array.astype(np.float32) / 127.5) - 1\n",
    "import codecs, json \n",
    "# Load the image into the array\n",
    "data[0] = normalized_image_array\n",
    "data2 = data.tolist()\n",
    "# json.dump(data2, codecs.open('data.json', 'w', encoding='utf-8'), \n",
    "#           separators=(',', ':'), \n",
    "#           sort_keys=True, \n",
    "#           indent=4)\n",
    "\n"
   ]
  },
  {
   "cell_type": "code",
   "execution_count": 19,
   "id": "4da13c10-8e23-40e5-8a64-89e68ed1edce",
   "metadata": {},
   "outputs": [
    {
     "name": "stdout",
     "output_type": "stream",
     "text": [
      "{'predictions': [[0.0008376993355341256, 0.9991472959518433, 1.477425404239341e-10, 4.593506020000859e-09, 1.3855251381755807e-05, 1.2391130894684466e-06]]}\n"
     ]
    }
   ],
   "source": [
    "import numpy as np\n",
    "import requests\n",
    "import json\n",
    "\n",
    "# # Example numpy array (replace with your actual array)\n",
    "# array = np.array([[[1, 2, 3], [4, 5, 6]], [[7, 8, 9], [10, 11, 12]]])\n",
    "\n",
    "# # Convert numpy array to list\n",
    "# array_list = array.tolist()\n",
    "\n",
    "# Prepare the payload\n",
    "payload = {\n",
    "    \"inputs\": data2\n",
    "}\n",
    "\n",
    "# Send the request\n",
    "response = requests.post(\n",
    "    url=\"http://127.0.0.1:9999/invocations\",\n",
    "    headers={\"Content-Type\": \"application/json\"},\n",
    "    data=json.dumps(payload)\n",
    ")\n",
    "\n",
    "# Print the response\n",
    "print(response.json())\n"
   ]
  },
  {
   "cell_type": "code",
   "execution_count": 9,
   "id": "8e46bf79-cfde-4f55-bdf1-a4b90cc83839",
   "metadata": {},
   "outputs": [
    {
     "data": {
      "text/plain": [
       "array([[[-1.2597680e-01,  7.2587260e-43, -1.8383431e-01],\n",
       "        [ 7.2587260e-43,  1.1333702e-41,  0.0000000e+00],\n",
       "        [-1.4150727e-01,  7.2587260e-43,  1.4012985e-45],\n",
       "        ...,\n",
       "        [ 0.0000000e+00,  0.0000000e+00,  0.0000000e+00],\n",
       "        [ 1.1353320e-41,  0.0000000e+00, -1.4157975e-01],\n",
       "        [ 7.2587260e-43,  1.5722569e-42,  0.0000000e+00]],\n",
       "\n",
       "       [[ 0.0000000e+00,  0.0000000e+00,  1.1353320e-41],\n",
       "        [ 0.0000000e+00, -1.4158022e-01,  7.2587260e-43],\n",
       "        [ 1.5736582e-42,  0.0000000e+00,  0.0000000e+00],\n",
       "        ...,\n",
       "        [ 7.2587260e-43,  1.5848686e-42,  0.0000000e+00],\n",
       "        [-1.4162087e-01,  7.2587260e-43,  1.1018410e-41],\n",
       "        [ 0.0000000e+00, -1.4161992e-01,  7.2587260e-43]],\n",
       "\n",
       "       [[ 3.3631163e-44,  0.0000000e+00, -6.1465055e-10],\n",
       "        [ 7.2587260e-43,  1.4012985e-45,  0.0000000e+00],\n",
       "        [ 0.0000000e+00,  0.0000000e+00,  2.7577554e-42],\n",
       "        ...,\n",
       "        [ 5.7453237e-44,  2.7605580e-42,  6.0255834e-44],\n",
       "        [-8.3137672e-24,  4.5906538e-41,  0.0000000e+00],\n",
       "        [ 0.0000000e+00,  0.0000000e+00,  0.0000000e+00]],\n",
       "\n",
       "       ...,\n",
       "\n",
       "       [[ 3.1431125e-42,  8.2676609e-44,  3.1431125e-42],\n",
       "        [ 1.0789998e-43, -1.5039253e-01,  7.2587260e-43],\n",
       "        [ 1.4012985e-45,  0.0000000e+00,  0.0000000e+00],\n",
       "        ...,\n",
       "        [ 0.0000000e+00, -1.5043318e-01,  7.2587260e-43],\n",
       "        [ 1.2618693e-41,  0.0000000e+00, -1.5043175e-01],\n",
       "        [ 7.2587260e-43,  1.5848686e-42,  0.0000000e+00]],\n",
       "\n",
       "       [[-1.5043318e-01,  7.2587260e-43,  1.2618693e-41],\n",
       "        [ 0.0000000e+00, -1.5043223e-01,  7.2587260e-43],\n",
       "        [ 3.3631163e-44,  0.0000000e+00, -5.3803983e-10],\n",
       "        ...,\n",
       "        [ 7.2587260e-43,  1.5526387e-42,  0.0000000e+00],\n",
       "        [-1.5046954e-01,  7.2587260e-43,  1.2639712e-41],\n",
       "        [ 0.0000000e+00, -1.5047193e-01,  7.2587260e-43]],\n",
       "\n",
       "       [[ 1.5512374e-42,  0.0000000e+00, -1.5046954e-01],\n",
       "        [ 7.2587260e-43,  1.2639712e-41,  0.0000000e+00],\n",
       "        [-1.5047240e-01,  7.2587260e-43,  1.5400270e-42],\n",
       "        ...,\n",
       "        [ 7.2587260e-43,  1.6465257e-42,  0.0000000e+00],\n",
       "        [ 0.0000000e+00,  0.0000000e+00,  1.2310407e-41],\n",
       "        [ 0.0000000e+00,  0.0000000e+00,  0.0000000e+00]]], dtype=float32)"
      ]
     },
     "execution_count": 9,
     "metadata": {},
     "output_type": "execute_result"
    }
   ],
   "source": [
    "data[0]"
   ]
  },
  {
   "cell_type": "code",
   "execution_count": 6,
   "id": "66b9ac6f-5654-4c4d-877f-2fbb2b577142",
   "metadata": {},
   "outputs": [
    {
     "data": {
      "text/plain": [
       "{'dataframe_records': array([[[[ 0.4666667 , -0.01176471, -0.3490196 ],\n",
       "          [ 0.48235297, -0.00392157, -0.3490196 ],\n",
       "          [ 0.45098042, -0.01960784, -0.38039213],\n",
       "          ...,\n",
       "          [-0.5372549 ,  0.22352946,  0.17647064],\n",
       "          [-0.6156863 ,  0.12156868,  0.082353  ],\n",
       "          [-0.70980394,  0.0196079 , -0.01960784]],\n",
       " \n",
       "         [[ 0.45098042, -0.02745098, -0.36470586],\n",
       "          [ 0.47450984, -0.01176471, -0.3490196 ],\n",
       "          [ 0.4666667 , -0.01960784, -0.36470586],\n",
       "          ...,\n",
       "          [-0.58431375,  0.1686275 ,  0.14509809],\n",
       "          [-0.36470586,  0.34901965,  0.3411765 ],\n",
       "          [-0.5764706 ,  0.05098045,  0.082353  ]],\n",
       " \n",
       "         [[ 0.43529415, -0.04313725, -0.38039213],\n",
       "          [ 0.4666667 , -0.01176471, -0.3490196 ],\n",
       "          [ 0.48235297, -0.00392157, -0.34117645],\n",
       "          ...,\n",
       "          [-0.77254903, -0.02745098, -0.04313725],\n",
       "          [-0.6862745 ,  0.05098045,  0.03529418],\n",
       "          [-0.7254902 ,  0.00392163,  0.00392163]],\n",
       " \n",
       "         ...,\n",
       " \n",
       "         [[ 0.27843142, -0.34117645, -0.7176471 ],\n",
       "          [ 0.27058828, -0.34117645, -0.7254902 ],\n",
       "          [ 0.30196083, -0.3098039 , -0.69411767],\n",
       "          ...,\n",
       "          [ 0.33333337, -0.1372549 , -0.5137255 ],\n",
       "          [ 0.33333337, -0.1372549 , -0.5137255 ],\n",
       "          [ 0.3803922 , -0.09803921, -0.46666664]],\n",
       " \n",
       "         [[ 0.28627455, -0.32549018, -0.70980394],\n",
       "          [ 0.2941177 , -0.31764704, -0.7019608 ],\n",
       "          [ 0.27843142, -0.3333333 , -0.7176471 ],\n",
       "          ...,\n",
       "          [ 0.39607847, -0.09019607, -0.4588235 ],\n",
       "          [ 0.33333337, -0.15294117, -0.5294118 ],\n",
       "          [ 0.36470592, -0.12156862, -0.49019605]],\n",
       " \n",
       "         [[ 0.27843142, -0.34117645, -0.7176471 ],\n",
       "          [ 0.30980396, -0.3098039 , -0.6862745 ],\n",
       "          [ 0.26274514, -0.35686272, -0.73333335],\n",
       "          ...,\n",
       "          [ 0.41176474, -0.08235294, -0.45098037],\n",
       "          [ 0.36470592, -0.12941176, -0.4980392 ],\n",
       "          [ 0.33333337, -0.1607843 , -0.5294118 ]]]], dtype=float32)}"
      ]
     },
     "execution_count": 6,
     "metadata": {},
     "output_type": "execute_result"
    }
   ],
   "source": [
    "inference_request"
   ]
  },
  {
   "cell_type": "code",
   "execution_count": 21,
   "id": "e6bbf91c-fe85-4455-abc1-de139a50f141",
   "metadata": {},
   "outputs": [
    {
     "ename": "SyntaxError",
     "evalue": "invalid syntax (2588343184.py, line 2)",
     "output_type": "error",
     "traceback": [
      "\u001b[1;36m  Cell \u001b[1;32mIn[21], line 2\u001b[1;36m\u001b[0m\n\u001b[1;33m    mlflow models serve --model-uri runs:/d4ec388e80d64096881eeb0424bcc373/model --port 9999 --env-manager local\u001b[0m\n\u001b[1;37m           ^\u001b[0m\n\u001b[1;31mSyntaxError\u001b[0m\u001b[1;31m:\u001b[0m invalid syntax\n"
     ]
    }
   ],
   "source": [
    "#code to serve model\n",
    "mlflow models serve --model-uri runs:/d4ec388e80d64096881eeb0424bcc373/model --port 9999 --env-manager local"
   ]
  },
  {
   "cell_type": "code",
   "execution_count": null,
   "id": "d4998027-27f5-4627-bd47-d6c68bd390a9",
   "metadata": {},
   "outputs": [],
   "source": []
  }
 ],
 "metadata": {
  "kernelspec": {
   "display_name": "Python 3 (ipykernel)",
   "language": "python",
   "name": "python3"
  },
  "language_info": {
   "codemirror_mode": {
    "name": "ipython",
    "version": 3
   },
   "file_extension": ".py",
   "mimetype": "text/x-python",
   "name": "python",
   "nbconvert_exporter": "python",
   "pygments_lexer": "ipython3",
   "version": "3.11.5"
  }
 },
 "nbformat": 4,
 "nbformat_minor": 5
}
